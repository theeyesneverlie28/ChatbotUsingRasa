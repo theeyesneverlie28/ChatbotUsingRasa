{
 "cells": [
  {
   "cell_type": "code",
   "execution_count": 7,
   "metadata": {},
   "outputs": [],
   "source": [
    "import torch\n",
    "from transformers import T5ForConditionalGeneration,T5Tokenizer"
   ]
  },
  {
   "cell_type": "code",
   "execution_count": 8,
   "metadata": {},
   "outputs": [],
   "source": [
    "def set_seed(seed):\n",
    "  torch.manual_seed(seed)\n",
    "  if torch.cuda.is_available():\n",
    "    torch.cuda.manual_seed_all(seed)\n",
    "\n",
    "set_seed(42)"
   ]
  },
  {
   "cell_type": "code",
   "execution_count": 9,
   "metadata": {},
   "outputs": [],
   "source": [
    "model = T5ForConditionalGeneration.from_pretrained('ramsrigouthamg/t5_paraphraser')\n",
    "tokenizer = T5Tokenizer.from_pretrained('t5-base')"
   ]
  },
  {
   "cell_type": "code",
   "execution_count": 10,
   "metadata": {},
   "outputs": [
    {
     "name": "stdout",
     "output_type": "stream",
     "text": [
      "device  cpu\n",
      "\n",
      "Original Question ::\n",
      " the washing machine does not work\n",
      "\n",
      "\n",
      "Paraphrased Questions :: \n",
      "0: How can you fix a washing machine that doesn't work?\n",
      "1: Why has my washing machine not worked?\n",
      "2: If my washing machine doesn't work, I'm allergic to it (those lines will not change, the washing machine will not work)\n",
      "3: Why doesn't my washing machine ever work?\n",
      "4: The washing machine won't work. Why?\n"
     ]
    }
   ],
   "source": [
    "import torch\n",
    "from transformers import T5ForConditionalGeneration,T5Tokenizer\n",
    "\n",
    "\n",
    "def set_seed(seed):\n",
    "  torch.manual_seed(seed)\n",
    "  if torch.cuda.is_available():\n",
    "    torch.cuda.manual_seed_all(seed)\n",
    "\n",
    "set_seed(42)\n",
    "\n",
    "model = T5ForConditionalGeneration.from_pretrained('ramsrigouthamg/t5_paraphraser')\n",
    "tokenizer = T5Tokenizer.from_pretrained('t5-base')\n",
    "\n",
    "device = torch.device(\"cuda\" if torch.cuda.is_available() else \"cpu\")\n",
    "print (\"device \",device)\n",
    "model = model.to(device)\n",
    "\n",
    "#sentence = \"Which course should I take to get started in data science?\"\n",
    "#sentence = \"What are the ingredients required to bake a perfect cake?\"\n",
    "# sentence = \"What is the best possible approach to learn aeronautical engineering?\"\n",
    "# sentence = \"Do apples taste better than oranges in general?\"\n",
    "sentence= \" the washing machine does not work\"\n",
    "\n",
    "text =  \"paraphrase: \" + sentence + \" </s>\"\n",
    "\n",
    "\n",
    "max_len = 256\n",
    "\n",
    "encoding = tokenizer.encode_plus(text,pad_to_max_length=True, return_tensors=\"pt\")\n",
    "input_ids, attention_masks = encoding[\"input_ids\"].to(device), encoding[\"attention_mask\"].to(device)\n",
    "\n",
    "\n",
    "# set top_k = 50 and set top_p = 0.95 and num_return_sequences = 3\n",
    "beam_outputs = model.generate(\n",
    "    input_ids=input_ids, attention_mask=attention_masks,\n",
    "    do_sample=True,\n",
    "    max_length=256,\n",
    "    top_k=120,\n",
    "    top_p=0.98,\n",
    "    early_stopping=True,\n",
    "    num_return_sequences=5\n",
    ")\n",
    "\n",
    "\n",
    "print (\"\\nOriginal Question ::\")\n",
    "print (sentence)\n",
    "print (\"\\n\")\n",
    "print (\"Paraphrased Questions :: \")\n",
    "final_outputs =[]\n",
    "for beam_output in beam_outputs:\n",
    "    sent = tokenizer.decode(beam_output, skip_special_tokens=True,clean_up_tokenization_spaces=True)\n",
    "    if sent.lower() != sentence.lower() and sent not in final_outputs:\n",
    "        final_outputs.append(sent)\n",
    "\n",
    "for i, final_output in enumerate(final_outputs):\n",
    "    print(\"{}: {}\".format(i, final_output))"
   ]
  },
  {
   "cell_type": "markdown",
   "metadata": {},
   "source": [
    "*Paraphraser by paraphrase_googletranslate*"
   ]
  },
  {
   "cell_type": "code",
   "execution_count": 11,
   "metadata": {},
   "outputs": [
    {
     "name": "stdout",
     "output_type": "stream",
     "text": [
      "the washing machine does not work\n",
      "The washing machine is broken\n"
     ]
    }
   ],
   "source": [
    "from paraphrase_googletranslate import Paraphraser\n",
    "\n",
    "original = 'the washing machine does not work'\n",
    "\n",
    "phraser = Paraphraser(random_ua=False )\n",
    "\n",
    "\n",
    "rephrased = phraser.paraphrase(original)\n",
    "\n",
    "print(original)\n",
    "print(rephrased)"
   ]
  },
  {
   "cell_type": "code",
   "execution_count": 12,
   "metadata": {},
   "outputs": [],
   "source": [
    "# pip install googletrans==4.0.0-rc1\n",
    "from googletrans import Translator\n",
    "#from py_translate import Translator\n",
    "import time"
   ]
  },
  {
   "cell_type": "code",
   "execution_count": 13,
   "metadata": {},
   "outputs": [],
   "source": [
    "#translator = Translator(service_urls=['translate.googleapis.com'])\n",
    "translator = Translator()\n",
    "def paraphrase_ggtranslate(src1,dest1,phrase):\n",
    "    global translator\n",
    "    res=translator.translate(phrase, src=src1,dest=dest1)\n",
    "    #translator2 = Translator()\n",
    "    t=res.text\n",
    "\n",
    "    result2=translator.translate(t, src=dest1,dest=src1)\n",
    "    return result2.text"
   ]
  },
  {
   "cell_type": "code",
   "execution_count": 14,
   "metadata": {},
   "outputs": [],
   "source": [
    "dicti={1:'en',2:'af',3:'ar',4:'az',5:'be',6:'ca',7:'cs',8:'cy',9:'da',10:'de',11:'vi',12:'el',13:'eo',14:'es',15:'et',16:'eu',17:'fa',\n",
    "     18:'gu', 19:'fr', 20:'gl' ,21: 'gu',22: 'he', 23: 'hi', 24: 'hr',25: 'hu',26: 'hy', 27: 'id',28: 'is', 29: 'it' ,30:'ka',31: 'ja', \n",
    "       32:'kk',33:'kn',34:'ko',35:'ky',36:'it',37:'lv',38:'mi',39:'mk',40:'mn',41:'mr',42:'ms',43:'mt',44:'xh', 45:'nl',46:'pa',47:'pl',\n",
    "       48:'ps',49:'pt',50:'xh',51:'ro',52:'ru', 53:'sw',54: 'tr',55:'sk',56:'sl',57:'sv',58:'uk',59:'ur',60:'vi'\n",
    "      }"
   ]
  },
  {
   "cell_type": "code",
   "execution_count": 15,
   "metadata": {},
   "outputs": [
    {
     "name": "stdout",
     "output_type": "stream",
     "text": [
      "the washing machine does not work\n"
     ]
    }
   ],
   "source": [
    "phrase='the washing machine does not work'\n",
    "res=paraphrase_ggtranslate('en','sw',phrase)\n",
    "print(res.lower())"
   ]
  },
  {
   "cell_type": "code",
   "execution_count": 16,
   "metadata": {},
   "outputs": [
    {
     "name": "stdout",
     "output_type": "stream",
     "text": [
      "['the washing machine does not work', 'the washing machine is not working', 'The washing machine is broken', 'washing machine is not working', 'The shing machine does not work', 'Washing machine does not work', \"washing machine didn't work\", 'the washing machine did not work']\n"
     ]
    }
   ],
   "source": [
    "L=[]\n",
    "L=L+[phrase]\n",
    "\n",
    "for i in range(1,len(dicti)+1):\n",
    "    tex=paraphrase_ggtranslate('en',dicti[i],phrase)\n",
    "    s=0\n",
    "    for j in range(len(L)):\n",
    "        if L[j].lower()==(tex).lower():\n",
    "            s+=1\n",
    "    if s==0:\n",
    "        L=L+[tex]\n",
    "    \n",
    "print(L)    "
   ]
  },
  {
   "cell_type": "code",
   "execution_count": 17,
   "metadata": {},
   "outputs": [
    {
     "name": "stdout",
     "output_type": "stream",
     "text": [
      "la machine à laver ne fonctionne pas\n"
     ]
    }
   ],
   "source": [
    "res=translator.translate(phrase, src='en',dest='fr')\n",
    "print(res.text)"
   ]
  },
  {
   "cell_type": "code",
   "execution_count": 18,
   "metadata": {},
   "outputs": [
    {
     "name": "stdout",
     "output_type": "stream",
     "text": [
      "['the washing machine does not work', 'the washing machine is not working', 'The washing machine is broken', 'washing machine is not working', 'The shing machine does not work', 'Washing machine does not work', \"washing machine didn't work\", 'the washing machine did not work']\n",
      "['the washing machine does not work', 'the washing machine is not working', 'The washing machine is broken', 'washing machine is not working', 'The shing machine does not work', 'Washing machine does not work', \"washing machine didn't work\", 'the washing machine did not work']\n",
      "['the washing machine does not work', 'the washing machine is not working', 'The washing machine is broken', 'washing machine is not working', 'The shing machine does not work', 'Washing machine does not work', \"washing machine didn't work\", 'the washing machine did not work']\n"
     ]
    },
    {
     "ename": "AttributeError",
     "evalue": "'Translator' object has no attribute 'raise_Exception'",
     "output_type": "error",
     "traceback": [
      "\u001b[1;31m---------------------------------------------------------------------------\u001b[0m",
      "\u001b[1;31mAttributeError\u001b[0m                            Traceback (most recent call last)",
      "\u001b[1;32m<ipython-input-18-5683865914ba>\u001b[0m in \u001b[0;36m<module>\u001b[1;34m\u001b[0m\n\u001b[0;32m      6\u001b[0m \u001b[1;33m\u001b[0m\u001b[0m\n\u001b[0;32m      7\u001b[0m     \u001b[1;32mfor\u001b[0m \u001b[0mi\u001b[0m \u001b[1;32min\u001b[0m \u001b[0mrange\u001b[0m\u001b[1;33m(\u001b[0m\u001b[1;36m1\u001b[0m\u001b[1;33m,\u001b[0m\u001b[0mlen\u001b[0m\u001b[1;33m(\u001b[0m\u001b[0mdicti\u001b[0m\u001b[1;33m)\u001b[0m\u001b[1;33m+\u001b[0m\u001b[1;36m1\u001b[0m\u001b[1;33m)\u001b[0m\u001b[1;33m:\u001b[0m\u001b[1;33m\u001b[0m\u001b[1;33m\u001b[0m\u001b[0m\n\u001b[1;32m----> 8\u001b[1;33m         \u001b[0mtex\u001b[0m\u001b[1;33m=\u001b[0m\u001b[0mparaphrase_ggtranslate\u001b[0m\u001b[1;33m(\u001b[0m\u001b[1;34m'en'\u001b[0m\u001b[1;33m,\u001b[0m\u001b[0mdicti\u001b[0m\u001b[1;33m[\u001b[0m\u001b[0mi\u001b[0m\u001b[1;33m]\u001b[0m\u001b[1;33m,\u001b[0m\u001b[0mphrase\u001b[0m\u001b[1;33m)\u001b[0m\u001b[1;33m\u001b[0m\u001b[1;33m\u001b[0m\u001b[0m\n\u001b[0m\u001b[0;32m      9\u001b[0m         \u001b[0ms\u001b[0m\u001b[1;33m=\u001b[0m\u001b[1;36m0\u001b[0m\u001b[1;33m\u001b[0m\u001b[1;33m\u001b[0m\u001b[0m\n\u001b[0;32m     10\u001b[0m         \u001b[1;32mfor\u001b[0m \u001b[0mj\u001b[0m \u001b[1;32min\u001b[0m \u001b[0mrange\u001b[0m\u001b[1;33m(\u001b[0m\u001b[0mlen\u001b[0m\u001b[1;33m(\u001b[0m\u001b[0mL\u001b[0m\u001b[1;33m)\u001b[0m\u001b[1;33m)\u001b[0m\u001b[1;33m:\u001b[0m\u001b[1;33m\u001b[0m\u001b[1;33m\u001b[0m\u001b[0m\n",
      "\u001b[1;32m<ipython-input-13-89f5eac497e5>\u001b[0m in \u001b[0;36mparaphrase_ggtranslate\u001b[1;34m(src1, dest1, phrase)\u001b[0m\n\u001b[0;32m      3\u001b[0m \u001b[1;32mdef\u001b[0m \u001b[0mparaphrase_ggtranslate\u001b[0m\u001b[1;33m(\u001b[0m\u001b[0msrc1\u001b[0m\u001b[1;33m,\u001b[0m\u001b[0mdest1\u001b[0m\u001b[1;33m,\u001b[0m\u001b[0mphrase\u001b[0m\u001b[1;33m)\u001b[0m\u001b[1;33m:\u001b[0m\u001b[1;33m\u001b[0m\u001b[1;33m\u001b[0m\u001b[0m\n\u001b[0;32m      4\u001b[0m     \u001b[1;32mglobal\u001b[0m \u001b[0mtranslator\u001b[0m\u001b[1;33m\u001b[0m\u001b[1;33m\u001b[0m\u001b[0m\n\u001b[1;32m----> 5\u001b[1;33m     \u001b[0mres\u001b[0m\u001b[1;33m=\u001b[0m\u001b[0mtranslator\u001b[0m\u001b[1;33m.\u001b[0m\u001b[0mtranslate\u001b[0m\u001b[1;33m(\u001b[0m\u001b[0mphrase\u001b[0m\u001b[1;33m,\u001b[0m \u001b[0msrc\u001b[0m\u001b[1;33m=\u001b[0m\u001b[0msrc1\u001b[0m\u001b[1;33m,\u001b[0m\u001b[0mdest\u001b[0m\u001b[1;33m=\u001b[0m\u001b[0mdest1\u001b[0m\u001b[1;33m)\u001b[0m\u001b[1;33m\u001b[0m\u001b[1;33m\u001b[0m\u001b[0m\n\u001b[0m\u001b[0;32m      6\u001b[0m     \u001b[1;31m#translator2 = Translator()\u001b[0m\u001b[1;33m\u001b[0m\u001b[1;33m\u001b[0m\u001b[1;33m\u001b[0m\u001b[0m\n\u001b[0;32m      7\u001b[0m     \u001b[0mt\u001b[0m\u001b[1;33m=\u001b[0m\u001b[0mres\u001b[0m\u001b[1;33m.\u001b[0m\u001b[0mtext\u001b[0m\u001b[1;33m\u001b[0m\u001b[1;33m\u001b[0m\u001b[0m\n",
      "\u001b[1;32m~\\Anaconda3\\envs\\tf\\lib\\site-packages\\googletrans\\client.py\u001b[0m in \u001b[0;36mtranslate\u001b[1;34m(self, text, dest, src)\u001b[0m\n\u001b[0;32m    192\u001b[0m \u001b[1;33m\u001b[0m\u001b[0m\n\u001b[0;32m    193\u001b[0m         \u001b[0morigin\u001b[0m \u001b[1;33m=\u001b[0m \u001b[0mtext\u001b[0m\u001b[1;33m\u001b[0m\u001b[1;33m\u001b[0m\u001b[0m\n\u001b[1;32m--> 194\u001b[1;33m         \u001b[0mdata\u001b[0m\u001b[1;33m,\u001b[0m \u001b[0mresponse\u001b[0m \u001b[1;33m=\u001b[0m \u001b[0mself\u001b[0m\u001b[1;33m.\u001b[0m\u001b[0m_translate\u001b[0m\u001b[1;33m(\u001b[0m\u001b[0mtext\u001b[0m\u001b[1;33m,\u001b[0m \u001b[0mdest\u001b[0m\u001b[1;33m,\u001b[0m \u001b[0msrc\u001b[0m\u001b[1;33m)\u001b[0m\u001b[1;33m\u001b[0m\u001b[1;33m\u001b[0m\u001b[0m\n\u001b[0m\u001b[0;32m    195\u001b[0m \u001b[1;33m\u001b[0m\u001b[0m\n\u001b[0;32m    196\u001b[0m         \u001b[0mtoken_found\u001b[0m \u001b[1;33m=\u001b[0m \u001b[1;32mFalse\u001b[0m\u001b[1;33m\u001b[0m\u001b[1;33m\u001b[0m\u001b[0m\n",
      "\u001b[1;32m~\\Anaconda3\\envs\\tf\\lib\\site-packages\\googletrans\\client.py\u001b[0m in \u001b[0;36m_translate\u001b[1;34m(self, text, dest, src)\u001b[0m\n\u001b[0;32m    120\u001b[0m         \u001b[0mr\u001b[0m \u001b[1;33m=\u001b[0m \u001b[0mself\u001b[0m\u001b[1;33m.\u001b[0m\u001b[0mclient\u001b[0m\u001b[1;33m.\u001b[0m\u001b[0mpost\u001b[0m\u001b[1;33m(\u001b[0m\u001b[0murl\u001b[0m\u001b[1;33m,\u001b[0m \u001b[0mparams\u001b[0m\u001b[1;33m=\u001b[0m\u001b[0mparams\u001b[0m\u001b[1;33m,\u001b[0m \u001b[0mdata\u001b[0m\u001b[1;33m=\u001b[0m\u001b[0mdata\u001b[0m\u001b[1;33m)\u001b[0m\u001b[1;33m\u001b[0m\u001b[1;33m\u001b[0m\u001b[0m\n\u001b[0;32m    121\u001b[0m \u001b[1;33m\u001b[0m\u001b[0m\n\u001b[1;32m--> 122\u001b[1;33m         \u001b[1;32mif\u001b[0m \u001b[0mr\u001b[0m\u001b[1;33m.\u001b[0m\u001b[0mstatus_code\u001b[0m \u001b[1;33m!=\u001b[0m \u001b[1;36m200\u001b[0m \u001b[1;32mand\u001b[0m \u001b[0mself\u001b[0m\u001b[1;33m.\u001b[0m\u001b[0mraise_Exception\u001b[0m\u001b[1;33m:\u001b[0m\u001b[1;33m\u001b[0m\u001b[1;33m\u001b[0m\u001b[0m\n\u001b[0m\u001b[0;32m    123\u001b[0m             raise Exception('Unexpected status code \"{}\" from {}'.format(\n\u001b[0;32m    124\u001b[0m                 r.status_code, self.service_urls))\n",
      "\u001b[1;31mAttributeError\u001b[0m: 'Translator' object has no attribute 'raise_Exception'"
     ]
    }
   ],
   "source": [
    "#sometimes it may not work and return error\n",
    "\n",
    "for l in range(5):\n",
    "    L=[]\n",
    "    L=L+[phrase]\n",
    "\n",
    "    for i in range(1,len(dicti)+1):\n",
    "        tex=paraphrase_ggtranslate('en',dicti[i],phrase)\n",
    "        s=0\n",
    "        for j in range(len(L)):\n",
    "            if L[j].lower()==(tex).lower():\n",
    "                s+=1\n",
    "        if s==0:\n",
    "            L=L+[tex]\n",
    "\n",
    "    print(L)    "
   ]
  },
  {
   "cell_type": "markdown",
   "metadata": {},
   "source": [
    "*We use another package: google_trans_new*\n",
    "\n",
    "*pip install google_trans_new*"
   ]
  },
  {
   "cell_type": "code",
   "execution_count": 27,
   "metadata": {},
   "outputs": [
    {
     "name": "stdout",
     "output_type": "stream",
     "text": [
      "le lave-linge ne fonctionne pas \n"
     ]
    }
   ],
   "source": [
    "from google_trans_new import google_translator  \n",
    "phrase='the washing machine does not run'\n",
    "#phrase='Washing machine  does not start,  no indicators are  on '\n",
    "#phrase='Washing machine  does not start,  although  “Start/Pause” has  been  pressed'\n",
    "#phrase='Washing machine  stops during the  programme, and  “Start/Pause”  blinks'\n",
    "translator = google_translator()  \n",
    "translate_text = translator.translate(phrase,lang_tgt='fr')  \n",
    "print(translate_text)"
   ]
  },
  {
   "cell_type": "code",
   "execution_count": 28,
   "metadata": {},
   "outputs": [],
   "source": [
    "def paraphrase_ggtranslate2(src1,dest1,phrase):\n",
    "    global translator\n",
    "    res=translator.translate(phrase, lang_src=src1,lang_tgt=dest1)\n",
    "    #translator2 = Translator()\n",
    "    t=res\n",
    "\n",
    "    result2=translator.translate(t, lang_src=dest1,lang_tgt=src1)\n",
    "    return result2"
   ]
  },
  {
   "cell_type": "code",
   "execution_count": 29,
   "metadata": {},
   "outputs": [
    {
     "name": "stdout",
     "output_type": "stream",
     "text": [
      "12\n",
      "the washing machine does not run\n",
      "the washing machine does not run \n",
      "The washing machine does not work \n",
      "the washing machine is not running \n",
      "washing machine is not running \n",
      "the washing machine is not working \n",
      "The washing machine is broken \n",
      "The shing machine does not work \n",
      "washing machine didn't work \n",
      "Washing machine does not work \n",
      "the washing machine did not work \n",
      "Do not run the washing machine \n"
     ]
    }
   ],
   "source": [
    "for l in range(1):\n",
    "    #ct=CleanText()\n",
    "    L=[]\n",
    "    L=L+[phrase]\n",
    "\n",
    "    for i in range(1,len(dicti)+1):\n",
    "        tex=paraphrase_ggtranslate2('en',dicti[i],phrase)\n",
    "        s=0\n",
    "        for j in range(len(L)):\n",
    "            if ((L[j]).lower()==(tex).lower()):\n",
    "                s+=1\n",
    "        if s==0:\n",
    "            L=L+[tex]\n",
    "print(len(L))\n",
    "for j in range(len(L)):\n",
    "    print(L[j])    "
   ]
  },
  {
   "cell_type": "code",
   "execution_count": 30,
   "metadata": {},
   "outputs": [],
   "source": [
    "import re\n",
    "import unicodedata\n",
    "import nltk\n",
    "from tqdm import tqdm\n",
    "from string import digits\n",
    "from bs4 import BeautifulSoup #Nettoyage d'HTML\n",
    "from spacy.lang.en.stop_words import STOP_WORDS\n",
    "digits_list = digits\n",
    "\n",
    "\n",
    "class CleanText:\n",
    "\n",
    "    def __init__(self, apply_stemming=True):\n",
    "\n",
    "        #french_stopwords = nltk.corpus.stopwords.words('english')\n",
    "        #self.stopwords = french_stopwords\n",
    "        self.stopwords=STOP_WORDS\n",
    "        self.stemmer = nltk.stem.SnowballStemmer('english')\n",
    "\n",
    "        self.apply_stemming = apply_stemming\n",
    "\n",
    "\n",
    "    @staticmethod\n",
    "    def remove_html_code(txt):\n",
    "        txt = BeautifulSoup(txt, \"html.parser\", from_encoding='utf-8').get_text()\n",
    "        return txt\n",
    "\n",
    "    @staticmethod\n",
    "    def convert_text_to_lower_case(txt):\n",
    "        return txt.lower()\n",
    "\n",
    "    \n",
    "\n",
    "    @staticmethod\n",
    "    def remove_non_letters(txt):\n",
    "        return re.sub('[^a-z_]', ' ', txt)\n",
    "\n",
    "    def remove_stopwords(self, txt):\n",
    "        return [w for w in txt.split() if (w not in self.stopwords)]\n",
    "\n",
    "    def get_stem(self, tokens):\n",
    "        return [self.stemmer.stem(token) for token in tokens]\n",
    "\n",
    "    def apply_all_transformation(self, txt):\n",
    "        txt = self.convert_text_to_lower_case(txt)\n",
    "        txt = self.remove_non_letters(txt)\n",
    "        tokens = self.remove_stopwords(txt)\n",
    "        if self.apply_stemming:\n",
    "            tokens = self.get_stem(tokens)\n",
    "        return tokens\n",
    "\n",
    "    \n"
   ]
  },
  {
   "cell_type": "code",
   "execution_count": 31,
   "metadata": {},
   "outputs": [
    {
     "name": "stdout",
     "output_type": "stream",
     "text": [
      "6\n",
      "the washing machine does not run\n",
      "The washing machine does not work \n",
      "The washing machine is broken \n",
      "The shing machine does not work \n",
      "washing machine didn't work \n",
      "Do not run the washing machine \n"
     ]
    }
   ],
   "source": [
    "for l in range(1):\n",
    "    ct=CleanText()\n",
    "    L=[]\n",
    "    L=L+[phrase]\n",
    "\n",
    "    for i in range(1,len(dicti)+1):\n",
    "        tex=paraphrase_ggtranslate2('en',dicti[i],phrase)\n",
    "        s=0\n",
    "        for j in range(len(L)):\n",
    "            if (ct.apply_all_transformation(L[j])==ct.apply_all_transformation(tex)):\n",
    "                s+=1\n",
    "        if s==0:\n",
    "            L=L+[tex]\n",
    "print(len(L))\n",
    "for j in range(len(L)):\n",
    "    print(L[j])    "
   ]
  },
  {
   "cell_type": "code",
   "execution_count": null,
   "metadata": {},
   "outputs": [],
   "source": []
  }
 ],
 "metadata": {
  "kernelspec": {
   "display_name": "Python 3",
   "language": "python",
   "name": "python3"
  },
  "language_info": {
   "codemirror_mode": {
    "name": "ipython",
    "version": 3
   },
   "file_extension": ".py",
   "mimetype": "text/x-python",
   "name": "python",
   "nbconvert_exporter": "python",
   "pygments_lexer": "ipython3",
   "version": "3.7.9"
  }
 },
 "nbformat": 4,
 "nbformat_minor": 4
}
